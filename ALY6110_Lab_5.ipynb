{
  "nbformat": 4,
  "nbformat_minor": 0,
  "metadata": {
    "colab": {
      "provenance": []
    },
    "kernelspec": {
      "name": "python3",
      "display_name": "Python 3"
    },
    "language_info": {
      "name": "python"
    }
  },
  "cells": [
    {
      "cell_type": "code",
      "execution_count": 1,
      "metadata": {
        "colab": {
          "base_uri": "https://localhost:8080/"
        },
        "id": "KsvOu28v6wc3",
        "outputId": "a8b82770-5d01-4093-def7-0360c5194ad8"
      },
      "outputs": [
        {
          "output_type": "stream",
          "name": "stdout",
          "text": [
            "Collecting pyspark\n",
            "  Downloading pyspark-3.5.1.tar.gz (317.0 MB)\n",
            "\u001b[2K     \u001b[90m━━━━━━━━━━━━━━━━━━━━━━━━━━━━━━━━━━━━━━━━\u001b[0m \u001b[32m317.0/317.0 MB\u001b[0m \u001b[31m3.5 MB/s\u001b[0m eta \u001b[36m0:00:00\u001b[0m\n",
            "\u001b[?25h  Preparing metadata (setup.py) ... \u001b[?25l\u001b[?25hdone\n",
            "Requirement already satisfied: py4j==0.10.9.7 in /usr/local/lib/python3.10/dist-packages (from pyspark) (0.10.9.7)\n",
            "Building wheels for collected packages: pyspark\n",
            "  Building wheel for pyspark (setup.py) ... \u001b[?25l\u001b[?25hdone\n",
            "  Created wheel for pyspark: filename=pyspark-3.5.1-py2.py3-none-any.whl size=317488491 sha256=bc4c580ce30552b607f598bb52c474142683424c6b6d062f8662ba909b292624\n",
            "  Stored in directory: /root/.cache/pip/wheels/80/1d/60/2c256ed38dddce2fdd93be545214a63e02fbd8d74fb0b7f3a6\n",
            "Successfully built pyspark\n",
            "Installing collected packages: pyspark\n",
            "Successfully installed pyspark-3.5.1\n"
          ]
        }
      ],
      "source": [
        "pip install pyspark"
      ]
    },
    {
      "cell_type": "markdown",
      "source": [
        "**Initializing PySpark Session and Load Dataset**"
      ],
      "metadata": {
        "id": "jkAtoEpTC4mR"
      }
    },
    {
      "cell_type": "code",
      "source": [
        "from pyspark.sql import SparkSession\n",
        "from pyspark.sql.functions import col, mean\n",
        "\n",
        "# Initialize Spark Session\n",
        "spark = SparkSession.builder.appName(\"BostonHousing\").getOrCreate()\n",
        "\n",
        "# Load the dataset from csv file\n",
        "df = spark.read.csv(\"/content/BostonHousing.csv\", sep=\",\", header = True, inferSchema=True)"
      ],
      "metadata": {
        "id": "n2hYHYwV7Zw4"
      },
      "execution_count": 3,
      "outputs": []
    },
    {
      "cell_type": "code",
      "source": [
        "# First 5 elements of the dataset\n",
        "df.show(5)"
      ],
      "metadata": {
        "colab": {
          "base_uri": "https://localhost:8080/"
        },
        "id": "g8QHGlBM7nCm",
        "outputId": "4be2c8e0-f4a5-465d-adb3-4ffc7affa64b"
      },
      "execution_count": 4,
      "outputs": [
        {
          "output_type": "stream",
          "name": "stdout",
          "text": [
            "+-------+----+-----+----+-----+-----+----+------+---+---+-------+------+-----+----+\n",
            "|   crim|  zn|indus|chas|  nox|   rm| age|   dis|rad|tax|ptratio|     b|lstat|medv|\n",
            "+-------+----+-----+----+-----+-----+----+------+---+---+-------+------+-----+----+\n",
            "|0.00632|18.0| 2.31|   0|0.538|6.575|65.2|  4.09|  1|296|   15.3| 396.9| 4.98|24.0|\n",
            "|0.02731| 0.0| 7.07|   0|0.469|6.421|78.9|4.9671|  2|242|   17.8| 396.9| 9.14|21.6|\n",
            "|0.02729| 0.0| 7.07|   0|0.469|7.185|61.1|4.9671|  2|242|   17.8|392.83| 4.03|34.7|\n",
            "|0.03237| 0.0| 2.18|   0|0.458|6.998|45.8|6.0622|  3|222|   18.7|394.63| 2.94|33.4|\n",
            "|0.06905| 0.0| 2.18|   0|0.458|7.147|54.2|6.0622|  3|222|   18.7| 396.9| 5.33|36.2|\n",
            "+-------+----+-----+----+-----+-----+----+------+---+---+-------+------+-----+----+\n",
            "only showing top 5 rows\n",
            "\n"
          ]
        }
      ]
    },
    {
      "cell_type": "code",
      "source": [
        "# Number of observations in the dataset\n",
        "observation_count = df.count()\n",
        "print(f\"Number of observations: {observation_count}\")"
      ],
      "metadata": {
        "colab": {
          "base_uri": "https://localhost:8080/"
        },
        "id": "jHXRMTa7_Lrh",
        "outputId": "146f8e44-7ab5-428d-ff54-69d102b396bf"
      },
      "execution_count": 5,
      "outputs": [
        {
          "output_type": "stream",
          "name": "stdout",
          "text": [
            "Number of observations: 506\n"
          ]
        }
      ]
    },
    {
      "cell_type": "code",
      "source": [
        "# Schema of the dataset\n",
        "df.printSchema()"
      ],
      "metadata": {
        "colab": {
          "base_uri": "https://localhost:8080/"
        },
        "id": "kS1y8675_S85",
        "outputId": "5ba5090f-c899-46af-bb26-9ed280ec6a16"
      },
      "execution_count": 6,
      "outputs": [
        {
          "output_type": "stream",
          "name": "stdout",
          "text": [
            "root\n",
            " |-- crim: double (nullable = true)\n",
            " |-- zn: double (nullable = true)\n",
            " |-- indus: double (nullable = true)\n",
            " |-- chas: integer (nullable = true)\n",
            " |-- nox: double (nullable = true)\n",
            " |-- rm: double (nullable = true)\n",
            " |-- age: double (nullable = true)\n",
            " |-- dis: double (nullable = true)\n",
            " |-- rad: integer (nullable = true)\n",
            " |-- tax: integer (nullable = true)\n",
            " |-- ptratio: double (nullable = true)\n",
            " |-- b: double (nullable = true)\n",
            " |-- lstat: double (nullable = true)\n",
            " |-- medv: double (nullable = true)\n",
            "\n"
          ]
        }
      ]
    },
    {
      "cell_type": "markdown",
      "source": [
        "**Combining Features Using VectorAssembler**"
      ],
      "metadata": {
        "id": "n7H-2h11DBuo"
      }
    },
    {
      "cell_type": "code",
      "source": [
        "from pyspark.ml.feature import VectorAssembler\n",
        "\n",
        "# Combine all feature columns into a single vector column\n",
        "feature_columns = df.columns[:-1]  # Exclude the target column 'medv'\n",
        "assembler = VectorAssembler(inputCols=feature_columns, outputCol=\"features\")\n",
        "df = assembler.transform(df)"
      ],
      "metadata": {
        "id": "UpyGjDbI_Wnf"
      },
      "execution_count": 7,
      "outputs": []
    },
    {
      "cell_type": "code",
      "source": [
        "# Show the new dataframe with the features column\n",
        "df.select(\"features\").show(5, truncate=False)"
      ],
      "metadata": {
        "colab": {
          "base_uri": "https://localhost:8080/"
        },
        "id": "9Y2SDFGa_iOe",
        "outputId": "5b378cfc-8128-48a9-8eb2-d50f7ea8b9dc"
      },
      "execution_count": 8,
      "outputs": [
        {
          "output_type": "stream",
          "name": "stdout",
          "text": [
            "+-------------------------------------------------------------------------+\n",
            "|features                                                                 |\n",
            "+-------------------------------------------------------------------------+\n",
            "|[0.00632,18.0,2.31,0.0,0.538,6.575,65.2,4.09,1.0,296.0,15.3,396.9,4.98]  |\n",
            "|[0.02731,0.0,7.07,0.0,0.469,6.421,78.9,4.9671,2.0,242.0,17.8,396.9,9.14] |\n",
            "|[0.02729,0.0,7.07,0.0,0.469,7.185,61.1,4.9671,2.0,242.0,17.8,392.83,4.03]|\n",
            "|[0.03237,0.0,2.18,0.0,0.458,6.998,45.8,6.0622,3.0,222.0,18.7,394.63,2.94]|\n",
            "|[0.06905,0.0,2.18,0.0,0.458,7.147,54.2,6.0622,3.0,222.0,18.7,396.9,5.33] |\n",
            "+-------------------------------------------------------------------------+\n",
            "only showing top 5 rows\n",
            "\n"
          ]
        }
      ]
    },
    {
      "cell_type": "markdown",
      "source": [
        "**Standardizing Features**"
      ],
      "metadata": {
        "id": "HGP4vM3sDHEj"
      }
    },
    {
      "cell_type": "code",
      "source": [
        "from pyspark.ml.feature import StandardScaler\n",
        "\n",
        "# Standardize the features\n",
        "scaler = StandardScaler(inputCol=\"features\", outputCol=\"scaledFeatures\", withMean=True, withStd=True)\n",
        "scaler_model = scaler.fit(df)\n",
        "df = scaler_model.transform(df)\n",
        "\n",
        "# Show the standardized features\n",
        "df.select(\"scaledFeatures\").show(5, truncate=False)"
      ],
      "metadata": {
        "colab": {
          "base_uri": "https://localhost:8080/"
        },
        "id": "DFNlwWMd_j9J",
        "outputId": "7470121d-a720-4663-bd8d-8ba1c80623d3"
      },
      "execution_count": 9,
      "outputs": [
        {
          "output_type": "stream",
          "name": "stdout",
          "text": [
            "+--------------------------------------------------------------------------------------------------------------------------------------------------------------------------------------------------------------------------------------------------------------------+\n",
            "|scaledFeatures                                                                                                                                                                                                                                                      |\n",
            "+--------------------------------------------------------------------------------------------------------------------------------------------------------------------------------------------------------------------------------------------------------------------+\n",
            "|[-0.4193669292132157,0.28454826934046545,-1.2866362317171998,-0.2723290676792085,-0.14407485473245793,0.4132629204530851,-0.11989476721580969,0.1400749839795616,-0.9818711878618682,-0.6659491794887344,-1.4575579672895913,0.4406158949990934,-1.0744989703439318]|\n",
            "|[-0.416926669964097,-0.4872401872268244,-0.592794378242936,-0.2723290676792085,-0.7395303607434325,0.19408238743701384,0.366803426432621,0.5566090495704012,-0.86702448858815,-0.9863533804386955,-0.3027944997494501,0.4406158949990934,-0.4919525249185661]       |\n",
            "|[-0.4169289951277455,-0.4872401872268244,-0.592794378242936,-0.2723290676792085,-0.7395303607434325,1.2814455512310292,-0.26554897115439113,0.5566090495704012,-0.86702448858815,-0.9863533804386955,-0.3027944997494501,0.3960350740793764,-1.2075324134098206]    |\n",
            "|[-0.41633840356102214,-0.4872401872268244,-1.3055856941020012,-0.2723290676792085,-0.8344580501075004,1.0152977611400864,-0.8090878297544635,1.0766711351119906,-0.7521777893144317,-1.105021603012755,0.11292034856500006,0.4157514076556642,-1.3601707849275249]  |\n",
            "|[-0.41207405342964165,-0.4872401872268244,-1.3055856941020012,-0.2723290676792085,-0.8344580501075004,1.2273620430842074,-0.5106743387583452,1.0766711351119906,-0.7521777893144317,-1.105021603012755,0.11292034856500006,0.4406158949990934,-1.025486649214394]   |\n",
            "+--------------------------------------------------------------------------------------------------------------------------------------------------------------------------------------------------------------------------------------------------------------------+\n",
            "only showing top 5 rows\n",
            "\n"
          ]
        }
      ]
    },
    {
      "cell_type": "markdown",
      "source": [
        "**Principal Component Analysis**"
      ],
      "metadata": {
        "id": "G371VBTcDK8P"
      }
    },
    {
      "cell_type": "code",
      "source": [
        "from pyspark.ml.feature import PCA\n",
        "\n",
        "# Perform PCA\n",
        "pca = PCA(k=2, inputCol=\"scaledFeatures\", outputCol=\"pcaFeatures\")\n",
        "pca_model = pca.fit(df)\n",
        "df_pca = pca_model.transform(df)\n",
        "\n",
        "# Show the principal components\n",
        "df_pca.select(\"pcaFeatures\").show(5, truncate=False)\n"
      ],
      "metadata": {
        "colab": {
          "base_uri": "https://localhost:8080/"
        },
        "id": "z2D79N2W_y2e",
        "outputId": "e4e8acc5-b536-4661-c138-448af3a76dc7"
      },
      "execution_count": 10,
      "outputs": [
        {
          "output_type": "stream",
          "name": "stdout",
          "text": [
            "+-------------------------------------------+\n",
            "|pcaFeatures                                |\n",
            "+-------------------------------------------+\n",
            "|[2.096223030238583,0.7723484263420728]     |\n",
            "|[1.4558109894474212,0.5913999518264818]    |\n",
            "|[2.0725465519481854,0.5990465781004481]    |\n",
            "|[2.6089217588643487,-0.0068638262975736246]|\n",
            "|[2.4557547719310775,0.09761534604617053]   |\n",
            "+-------------------------------------------+\n",
            "only showing top 5 rows\n",
            "\n"
          ]
        }
      ]
    },
    {
      "cell_type": "markdown",
      "source": [
        "**Ploting PCA Components**"
      ],
      "metadata": {
        "id": "ijsxMh4FDTjB"
      }
    },
    {
      "cell_type": "code",
      "source": [
        "import pandas as pd\n",
        "import matplotlib.pyplot as plt\n",
        "\n",
        "# Collect distributed data in numpy array\n",
        "pca_features = df_pca.select(\"pcaFeatures\").rdd.map(lambda row: row.pcaFeatures).collect()\n",
        "# Convert to Pandas DataFrame\n",
        "pca_df = pd.DataFrame(pca_features, columns=[\"PCA1\", \"PCA2\"])\n",
        "\n",
        "# Plot the two principal components\n",
        "plt.scatter(pca_df[\"PCA1\"], pca_df[\"PCA2\"])\n",
        "plt.xlabel(\"PCA1\")\n",
        "plt.ylabel(\"PCA2\")\n",
        "plt.title(\"PCA of Boston Housing Data\")\n",
        "plt.show()"
      ],
      "metadata": {
        "colab": {
          "base_uri": "https://localhost:8080/",
          "height": 472
        },
        "id": "rulRvoZXACwA",
        "outputId": "8748a109-64bc-4534-d032-867f24bf8ef8"
      },
      "execution_count": 18,
      "outputs": [
        {
          "output_type": "display_data",
          "data": {
            "text/plain": [
              "<Figure size 640x480 with 1 Axes>"
            ],
            "image/png": "[encoded data removed]"
          },
          "metadata": {}
        }
      ]
    },
    {
      "cell_type": "markdown",
      "source": [
        "**Vectorizing Features and Target Variable**"
      ],
      "metadata": {
        "id": "C6e5wxO5DWSv"
      }
    },
    {
      "cell_type": "code",
      "source": [
        "# Vectorize features and target for Linear Regression model\n",
        "df = df.withColumn(\"label\", col(\"medv\"))\n",
        "\n",
        "# Select only necessary columns\n",
        "df = df.select(\"scaledFeatures\", \"label\")\n",
        "\n",
        "# Show the prepared dataframe\n",
        "df.show(5)"
      ],
      "metadata": {
        "colab": {
          "base_uri": "https://localhost:8080/"
        },
        "id": "54VzJNi0AQoh",
        "outputId": "1792cab6-3dd7-47dc-c82c-8835f3e5df49"
      },
      "execution_count": 13,
      "outputs": [
        {
          "output_type": "stream",
          "name": "stdout",
          "text": [
            "+--------------------+-----+\n",
            "|      scaledFeatures|label|\n",
            "+--------------------+-----+\n",
            "|[-0.4193669292132...| 24.0|\n",
            "|[-0.4169266699640...| 21.6|\n",
            "|[-0.4169289951277...| 34.7|\n",
            "|[-0.4163384035610...| 33.4|\n",
            "|[-0.4120740534296...| 36.2|\n",
            "+--------------------+-----+\n",
            "only showing top 5 rows\n",
            "\n"
          ]
        }
      ]
    },
    {
      "cell_type": "markdown",
      "source": [
        "**Training and Testing Split**"
      ],
      "metadata": {
        "id": "mQlxVXRTDdGI"
      }
    },
    {
      "cell_type": "code",
      "source": [
        "# Split the dataset into training and testing sets\n",
        "train_data, test_data = df.randomSplit([0.7, 0.3], seed=123)"
      ],
      "metadata": {
        "id": "MFrwaOtHCVN_"
      },
      "execution_count": 14,
      "outputs": []
    },
    {
      "cell_type": "markdown",
      "source": [
        "**Linear Regression**"
      ],
      "metadata": {
        "id": "_nTuQYgSDlt8"
      }
    },
    {
      "cell_type": "code",
      "source": [
        "from pyspark.ml.regression import LinearRegression\n",
        "\n",
        "# Initialize and train the Linear Regression model\n",
        "lr = LinearRegression(featuresCol=\"scaledFeatures\", labelCol=\"label\")\n",
        "lr_model = lr.fit(train_data)\n",
        "\n",
        "# Print model coefficients and intercept\n",
        "print(f\"Coefficients: {lr_model.coefficients}\")\n",
        "print(f\"Intercept: {lr_model.intercept}\")"
      ],
      "metadata": {
        "colab": {
          "base_uri": "https://localhost:8080/"
        },
        "id": "eWKGVI_ACcTH",
        "outputId": "0ce7a714-aee9-4448-c0bd-11d40b9cbcd5"
      },
      "execution_count": 15,
      "outputs": [
        {
          "output_type": "stream",
          "name": "stdout",
          "text": [
            "Coefficients: [-0.928198063669572,1.1600495994552131,0.09469490853524046,0.7619320688343805,-2.0308782736153077,2.2530325547030974,0.1867893890339288,-3.0322376402170086,3.0887306086981754,-2.0089937911894773,-2.0950612771580586,0.9612364036817085,-4.300085324665277]\n",
            "Intercept: 22.599935876244167\n"
          ]
        }
      ]
    },
    {
      "cell_type": "code",
      "source": [
        "# Make predictions on the test data\n",
        "test_results = lr_model.transform(test_data)\n",
        "\n",
        "# Evaluate the model\n",
        "from pyspark.ml.evaluation import RegressionEvaluator\n",
        "\n",
        "evaluator = RegressionEvaluator(predictionCol=\"prediction\", labelCol=\"label\", metricName=\"rmse\")\n",
        "rmse = evaluator.evaluate(test_results)\n",
        "print(f\"Root Mean Squared Error (RMSE): {rmse}\")\n",
        "\n",
        "# Additional evaluation: R-squared value\n",
        "r2 = evaluator.evaluate(test_results, {evaluator.metricName: \"r2\"})\n",
        "print(f\"R-squared: {r2}\")"
      ],
      "metadata": {
        "colab": {
          "base_uri": "https://localhost:8080/"
        },
        "id": "HM4toBuiCtpP",
        "outputId": "3c768285-e5c2-41da-ff87-0201b4071041"
      },
      "execution_count": 16,
      "outputs": [
        {
          "output_type": "stream",
          "name": "stdout",
          "text": [
            "Root Mean Squared Error (RMSE): 4.571625327805613\n",
            "R-squared: 0.7519253328415118\n"
          ]
        }
      ]
    },
    {
      "cell_type": "markdown",
      "source": [
        "**Further Analysis of Model Performance**"
      ],
      "metadata": {
        "id": "RKYX8CQzGKFr"
      }
    },
    {
      "cell_type": "code",
      "source": [
        "# Show predictions\n",
        "test_results.select(\"prediction\", \"label\", \"scaledFeatures\").show(5)\n",
        "\n",
        "# Analyze residuals\n",
        "residuals = test_results.withColumn(\"residuals\", col(\"label\") - col(\"prediction\"))\n",
        "residuals.select(\"residuals\").show(5)"
      ],
      "metadata": {
        "colab": {
          "base_uri": "https://localhost:8080/"
        },
        "id": "NX7xFVfcEYug",
        "outputId": "6320a345-12fb-481d-c41a-1da00111468a"
      },
      "execution_count": 19,
      "outputs": [
        {
          "output_type": "stream",
          "name": "stdout",
          "text": [
            "+------------------+-----+--------------------+\n",
            "|        prediction|label|      scaledFeatures|\n",
            "+------------------+-----+--------------------+\n",
            "| 27.34694258653266| 22.0|[-0.4188274912467...|\n",
            "| 40.57014354938094| 50.0|[-0.4184961554268...|\n",
            "|27.823154486711626| 24.5|[-0.4183566456079...|\n",
            "| 25.94477759145833| 30.1|[-0.4181148285884...|\n",
            "| 30.66369416238175| 32.9|[-0.4180346104426...|\n",
            "+------------------+-----+--------------------+\n",
            "only showing top 5 rows\n",
            "\n",
            "+-------------------+\n",
            "|          residuals|\n",
            "+-------------------+\n",
            "| -5.346942586532659|\n",
            "|  9.429856450619063|\n",
            "|-3.3231544867116263|\n",
            "|  4.155222408541672|\n",
            "|   2.23630583761825|\n",
            "+-------------------+\n",
            "only showing top 5 rows\n",
            "\n"
          ]
        }
      ]
    },
    {
      "cell_type": "code",
      "source": [
        "# Convert predictions and actual values to pandas dataframe for plotting\n",
        "predictions_actuals = test_results.select(\"prediction\", \"label\").toPandas()\n",
        "\n",
        "# Scatter plot of predicted vs. actual values\n",
        "plt.scatter(predictions_actuals[\"label\"], predictions_actuals[\"prediction\"])\n",
        "plt.xlabel(\"Actual Values\")\n",
        "plt.ylabel(\"Predicted Values\")\n",
        "plt.title(\"Predicted vs. Actual Values\")\n",
        "plt.plot([predictions_actuals[\"label\"].min(), predictions_actuals[\"label\"].max()],\n",
        "         [predictions_actuals[\"label\"].min(), predictions_actuals[\"label\"].max()], 'r--')\n",
        "plt.show()"
      ],
      "metadata": {
        "colab": {
          "base_uri": "https://localhost:8080/",
          "height": 472
        },
        "id": "V7rGAX0rGBCw",
        "outputId": "20782dfb-601a-4f14-a67a-76748ab4c114"
      },
      "execution_count": 20,
      "outputs": [
        {
          "output_type": "display_data",
          "data": {
            "text/plain": [
              "<Figure size 640x480 with 1 Axes>"
            ],
            "image/png": "[encoded data removed]"
          },
          "metadata": {}
        }
      ]
    }
  ]
}